{
 "cells": [
  {
   "cell_type": "code",
   "execution_count": 1,
   "metadata": {},
   "outputs": [],
   "source": [
    "import numpy as np\n",
    "import matplotlib.pyplot as plt\n",
    "from numba import jit\n",
    "from geometry import *\n",
    "from materials import *\n",
    "from inputs import *"
   ]
  },
  {
   "cell_type": "code",
   "execution_count": 2,
   "metadata": {},
   "outputs": [],
   "source": [
    "#plt.figure(figsize = (20,2))\n",
    "#plt.imshow(np.flipud(np.transpose(Tinit([])[:,16,:])))\n",
    "#plt.imshow(np.flipud(np.transpose(alphas([],0)[:,16,:,1])))"
   ]
  },
  {
   "cell_type": "code",
   "execution_count": 3,
   "metadata": {},
   "outputs": [
    {
     "name": "stdout",
     "output_type": "stream",
     "text": [
      "0.000847953216374269\n",
      "0.16666666666666663\n"
     ]
    }
   ],
   "source": [
    "print(alpha_cfo)\n",
    "print(r_cfo)"
   ]
  },
  {
   "cell_type": "code",
   "execution_count": 4,
   "metadata": {},
   "outputs": [
    {
     "name": "stdout",
     "output_type": "stream",
     "text": [
      "7.250755287009064e-05\n",
      "0.014251484529638503\n"
     ]
    }
   ],
   "source": [
    "print(alpha_aln)\n",
    "print(r_aln)"
   ]
  },
  {
   "cell_type": "code",
   "execution_count": 5,
   "metadata": {},
   "outputs": [
    {
     "name": "stdout",
     "output_type": "stream",
     "text": [
      "[8.e-05]\n",
      "[0.01572414]\n"
     ]
    }
   ],
   "source": [
    "print(alphas[0])\n",
    "print(r_ins[0])"
   ]
  },
  {
   "cell_type": "code",
   "execution_count": 6,
   "metadata": {},
   "outputs": [],
   "source": [
    "def alphas(T):\n",
    "    grid = np.zeros((gridx,gridy,gridz,3)) #0*Tinit(thicks) # alpha is zero wherever there is no material    \n",
    "    grid[foamx[0]:foamx[1],foamy[0]:foamy[1],foamz[0]:foamz[1],0:3] = r_cfo # carbon foam    \n",
    "    grid[fiberx[0]:fiberx[1],fibery[0]:fibery[1],fiberz[0]:fiberz[1],0:1] = r_cfi[0]# carbon fiber\n",
    "    grid[fiberx[0]:fiberx[1],fibery[0]:fibery[1],fiberz[0]:fiberz[1],1:2] = r_cfi[1]# carbon fiber\n",
    "    grid[fiberx[0]:fiberx[1],fibery[0]:fibery[1],fiberz[0]:fiberz[1],2:3] = r_cfi[2]# carbon fiber\n",
    "    \n",
    "    grid[inx[0]:inx[1],iny[0]:iny[1],fiberz[0]:fiberz[1],0:3] = r_aln\n",
    "    \n",
    "    # input materials\n",
    "    for i in range(int(len(thicks))):\n",
    "        grid[inx[0]:inx[1],iny[0]:iny[1],inz[0]+sum(thicks[0:i]):inz[0]+sum(thicks[0:i+1]),0:3] = r_ins[i]    \n",
    "    for i in range(glassx[0],glassx[1]):\n",
    "        for j in range(glassy[0],glassy[1]):\n",
    "            for k in range(glassz[0],glassz[1]):\n",
    "                grid[i][j][k] = r_glass_T(T[i][j][k])\n",
    "    for i in range(six[0],six[1]):\n",
    "        for j in range(siy[0],siy[1]):\n",
    "            for k in range(siz[0],siz[1]):\n",
    "                grid[i][j][k] = r_si_T(T[i][j][k])\n",
    "    return grid"
   ]
  },
  {
   "cell_type": "code",
   "execution_count": 7,
   "metadata": {},
   "outputs": [],
   "source": [
    "@jit(nopython=True) # update shape in rectangular prism form\n",
    "def Tupdatetube(Tgrid):\n",
    "    Tgridn = Tgrid\n",
    "    for l in list(range(ctb1x-tr, ctb1x+tr+1)) + list(range(ctb2x-tr, ctb2x+tr+1)): # loop over possible x-values of tube\n",
    "        for m in range(ctbz-tr,ctbz+tr+1): # loop over possible z-values of tube\n",
    "            if (min((l-ctb1x)**2,(l-ctb2x)**2)+(m-ctbz)**2 <= tr**2): # if the pixel is in either tube\n",
    "                Tgridn[l:l+1,0:Tgrid.shape[1]-1,m:m+1]=tt # set temperature to tube temperature   \n",
    "    return Tgridn"
   ]
  },
  {
   "cell_type": "code",
   "execution_count": 8,
   "metadata": {},
   "outputs": [],
   "source": [
    "def Tinit(): # creates a grid with features of heat source and cold tube points    \n",
    "    grid = at*np.ones((gridx,gridy,gridz)) # establish grid    \n",
    "    grid = Tupdatetube(grid) # initialize tubing temperatures\n",
    "    return grid"
   ]
  },
  {
   "cell_type": "code",
   "execution_count": 9,
   "metadata": {},
   "outputs": [
    {
     "data": {
      "text/plain": [
       "<matplotlib.image.AxesImage at 0x1a7cc5b6518>"
      ]
     },
     "execution_count": 9,
     "metadata": {},
     "output_type": "execute_result"
    },
    {
     "data": {
      "image/png": "[encoded data removed]",
      "text/plain": [
       "<Figure size 1440x144 with 1 Axes>"
      ]
     },
     "metadata": {},
     "output_type": "display_data"
    }
   ],
   "source": [
    "TCS = Tinit()\n",
    "plt.figure(figsize = (20,2))\n",
    "plt.imshow(np.flipud(np.transpose(TCS[:,16,:])))"
   ]
  },
  {
   "cell_type": "code",
   "execution_count": 10,
   "metadata": {},
   "outputs": [
    {
     "data": {
      "text/plain": [
       "<matplotlib.image.AxesImage at 0x1a7cc6e8e10>"
      ]
     },
     "execution_count": 10,
     "metadata": {},
     "output_type": "execute_result"
    },
    {
     "data": {
      "image/png": "[encoded data removed]",
      "text/plain": [
       "<Figure size 1440x144 with 1 Axes>"
      ]
     },
     "metadata": {},
     "output_type": "display_data"
    }
   ],
   "source": [
    "RCS = alphas(Tinit())\n",
    "plt.figure(figsize = (20,2))\n",
    "plt.imshow(np.flipud(np.transpose(RCS[:,16,:,0])))"
   ]
  },
  {
   "cell_type": "code",
   "execution_count": 11,
   "metadata": {},
   "outputs": [],
   "source": [
    "@jit(nopython=True)\n",
    "def wavg(grid, alphas, i1, i2, i3):\n",
    "    return grid[i1][i2][i3]+alphas[i1+1][i2][i3][0]*(grid[i1+1][i2][i3]-grid[i1][i2][i3])+alphas[i1-1][i2][i3][0]*(grid[i1-1][i2][i3]-grid[i1][i2][i3])+alphas[i1][i2+1][i3][1]*(grid[i1][i2+1][i3]-grid[i1][i2][i3])+alphas[i1][i2-1][i3][1]*(grid[i1][i2-1][i3]-grid[i1][i2][i3])+alphas[i1][i2][i3+1][2]*(grid[i1][i2][i3+1]-grid[i1][i2][i3])+alphas[i1][i2][i3-1][2]*(grid[i1][i2][i3-1]-grid[i1][i2][i3])"
   ]
  },
  {
   "cell_type": "code",
   "execution_count": 12,
   "metadata": {},
   "outputs": [],
   "source": [
    "@jit(nopython=True) # update shape in rectangular prism form\n",
    "def Tupdaterectp(Tgrid, alphagrid, x0, x1, y0, y1, z0, z1, p):\n",
    "    Tgridn = Tgrid\n",
    "    for i in range(x0,x1):\n",
    "        for j in range(y0,y1):\n",
    "            for k in range(z0,z1):\n",
    "                Tgridn[i][j][k] = wavg(Tgrid, alphagrid, i, j, k)+p  \n",
    "    return Tgridn"
   ]
  },
  {
   "cell_type": "code",
   "execution_count": 13,
   "metadata": {},
   "outputs": [],
   "source": [
    "@jit(nopython=True)\n",
    "def Tupdate(Tgrid, alphagrid, pain): \n",
    "    Tgridn = Tgrid\n",
    "    Tgridn = Tupdaterectp(Tgrid, alphagrid, 1, Tgrid.shape[0]-1, 1, Tgrid.shape[1]-1, foamz0, foamz1, 0)\n",
    "    Tgridn = Tupdaterectp(Tgrid, alphagrid, 1, Tgrid.shape[0]-1, 1, Tgrid.shape[1]-1, fiberz0, fiberz1, 0)\n",
    "    Tgridn = Tupdaterectp(Tgrid, alphagrid, inx0, inx1, iny0, iny1, inz0, inz1, 0)\n",
    "    Tgridn = Tupdaterectp(Tgrid, alphagrid, inx0, inx1, iny0, iny1, glassz0, glassz1, 0)\n",
    "    Tgridn = Tupdaterectp(Tgrid, alphagrid, inx0, inx1, iny0, iny1-hsw, siz0, siz1, (1-mpsr)*pain*vmod/(vmod-vshunt))\n",
    "    Tgridn = Tupdaterectp(Tgrid, alphagrid, inx0, inx1, iny1-hsw, iny1, siz0, siz1, mpsr*pain*vmod/vshunt)\n",
    "    Tgridn = Tupdatetube(Tgrid) # update tubes\n",
    "    return Tgridn"
   ]
  },
  {
   "cell_type": "code",
   "execution_count": 14,
   "metadata": {},
   "outputs": [],
   "source": [
    "def progressBar(current, total, barLength = 20):\n",
    "    percent = float(current) * 100 / total\n",
    "    arrow   = '-' * int(percent/100 * barLength - 1) + '>'\n",
    "    spaces  = ' ' * (barLength - len(arrow))\n",
    "    print('Progress: [%s%s] %d %%' % (arrow, spaces, percent), end='\\r')"
   ]
  },
  {
   "cell_type": "code",
   "execution_count": 15,
   "metadata": {},
   "outputs": [
    {
     "name": "stdout",
     "output_type": "stream",
     "text": [
      "0.00033152203651404645\n"
     ]
    }
   ],
   "source": [
    "# calculates power added to silicon at every iteration\n",
    "ptot = 15 # watts\n",
    "eadd = dt*ptot/(deltad**3*vmod)\n",
    "pai = eadd/(dens_si*cp_si)\n",
    "print(pai)"
   ]
  },
  {
   "cell_type": "code",
   "execution_count": 16,
   "metadata": {},
   "outputs": [
    {
     "name": "stdout",
     "output_type": "stream",
     "text": [
      "2826.0\n",
      "0.017689655172413787\n"
     ]
    }
   ],
   "source": [
    "print(np.floor(0.05/dt))\n",
    "print(1000*dt)"
   ]
  },
  {
   "cell_type": "code",
   "execution_count": 17,
   "metadata": {},
   "outputs": [],
   "source": [
    "def final_diff(tlength, trupdate, ptot):\n",
    "    #ptot = 0.12537 # watts\n",
    "    eadd = dt*ptot/(deltad**3*vmod)\n",
    "    pai = eadd/(dens_si*cp_si)\n",
    "    tlen = int(np.floor(tlength/dt))\n",
    "    timeseries = np.zeros(ts)\n",
    "    T = Tinit()\n",
    "    A = alphas(T)\n",
    "    timeseries = np.zeros(tlen)\n",
    "    for h in range(tlen):\n",
    "        timeseries[h]=np.mean(T[six[0]:six[1],siy[0]:siy[1],siz[0]:siz[1]])\n",
    "        T = Tupdate(T, A, pai)\n",
    "        if np.mod(h,np.floor(trupdate/dt)) == 0:\n",
    "            A = alphas(T)\n",
    "        progressBar(h+1, tlen)\n",
    "    return (timeseries[-1]-timeseries[-2])/dt"
   ]
  },
  {
   "cell_type": "code",
   "execution_count": 27,
   "metadata": {},
   "outputs": [
    {
     "name": "stdout",
     "output_type": "stream",
     "text": [
      "Progress: [------------------->] 100 %\r"
     ]
    }
   ],
   "source": [
    "tlen = int(np.floor(0.35/dt))\n",
    "timeseries = np.zeros(ts)\n",
    "T = Tinit()\n",
    "A = alphas(T)\n",
    "timeseries = np.zeros(tlen)\n",
    "for h in range(tlen):\n",
    "    timeseries[h]=np.mean(T[six[0]:six[1],siy[0]:siy[1],siz[0]:siz[1]])\n",
    "    T = Tupdate(T, A, pai)\n",
    "    if np.mod(h,np.floor(0.05/dt)) == 0:\n",
    "        A = alphas(T)\n",
    "    progressBar(h+1, tlen)"
   ]
  },
  {
   "cell_type": "code",
   "execution_count": 19,
   "metadata": {},
   "outputs": [
    {
     "data": {
      "image/png": "[encoded data removed]",
      "text/plain": [
       "<Figure size 432x288 with 1 Axes>"
      ]
     },
     "metadata": {},
     "output_type": "display_data"
    }
   ],
   "source": [
    "x = np.linspace(0,tlen*dt,tlen)\n",
    "plt.plot(x,timeseries)\n",
    "plt.xlabel('Time (s)')\n",
    "plt.ylabel('Temperature ($^\\circ$C)')\n",
    "plt.show()"
   ]
  },
  {
   "cell_type": "code",
   "execution_count": 20,
   "metadata": {},
   "outputs": [
    {
     "name": "stdout",
     "output_type": "stream",
     "text": [
      "16.5\n",
      "19.25ess: [------------------->] 100 %\n",
      "17.875ss: [------------------->] 100 %\n",
      "18.5625s: [------------------->] 100 %\n",
      "18.90625: [------------------->] 100 %\n",
      "18.734375 [------------------->] 100 %\n",
      "18.8203125[------------------->] 100 %\n",
      "18.77734375------------------->] 100 %\n",
      "18.755859375------------------>] 100 %\n",
      "18.7451171875----------------->] 100 %\n",
      "18.73974609375---------------->] 100 %\n",
      "18.742431640625--------------->] 100 %\n",
      "18.7437744140625-------------->] 100 %\n",
      "18.74310302734375------------->] 100 %\n",
      "18.742767333984375------------>] 100 %\n",
      "18.742599487304688------------>] 100 %\n",
      "18.742515563964844------------>] 100 %\n",
      "18.742473602294922------------>] 100 %\n",
      "18.742494583129883------------>] 100 %\n",
      "18.742484092712402------------>] 100 %\n",
      "Progress: [------------------->] 100 %\r"
     ]
    }
   ],
   "source": [
    "initmax = 22\n",
    "initmin = 11\n",
    "# make it output errors\n",
    "for i in range(20):\n",
    "    initmid = np.mean([initmin,initmax])\n",
    "    print(initmid)\n",
    "    cand = np.round(final_diff(0.35, 0.05, initmid),8) \n",
    "    if cand < 0:\n",
    "        initmin = initmid\n",
    "    elif cand > 0:\n",
    "        initmax = initmid\n",
    "    else:\n",
    "        break"
   ]
  },
  {
   "cell_type": "code",
   "execution_count": 21,
   "metadata": {},
   "outputs": [],
   "source": [
    "# assembly 1: alpha = .00002: 3.6117\n",
    "# assembly 1: alpha = .00004: 6.6970\n",
    "# assembly 1: alpha = .00006: 9.3599\n",
    "# assembly 1: alpha = .00008: 11.67811\n",
    "# assembly 1: alpha = .0001: 13.71105"
   ]
  },
  {
   "cell_type": "code",
   "execution_count": 22,
   "metadata": {},
   "outputs": [],
   "source": [
    "# assembly 2: alpha = .00002: 6.7148\n",
    "# assembly 2: alpha = .00004: 11.7364\n",
    "# assembly 2: alpha = .00006: 15.6326\n",
    "# assembly 2: alpha = .00008: 18.74248\n",
    "# assembly 2: alpha = .0001: 21.2814"
   ]
  },
  {
   "cell_type": "code",
   "execution_count": null,
   "metadata": {},
   "outputs": [],
   "source": [
    "# assembly 3: alpha = .00002: 1.6668\n",
    "# assembly 3: alpha = .00004: 3.9554\n",
    "# assembly 3: alpha = .00006: 6.0506\n",
    "# assembly 3: alpha = .00008: 7.9818\n",
    "# assembly 3: alpha = .0001: 9.4980"
   ]
  }
 ],
 "metadata": {
  "kernelspec": {
   "display_name": "Python 3",
   "language": "python",
   "name": "python3"
  },
  "language_info": {
   "codemirror_mode": {
    "name": "ipython",
    "version": 3
   },
   "file_extension": ".py",
   "mimetype": "text/x-python",
   "name": "python",
   "nbconvert_exporter": "python",
   "pygments_lexer": "ipython3",
   "version": "3.6.4"
  }
 },
 "nbformat": 4,
 "nbformat_minor": 2
}
