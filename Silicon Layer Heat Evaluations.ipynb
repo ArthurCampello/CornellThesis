{
 "cells": [
  {
   "cell_type": "code",
   "execution_count": null,
   "metadata": {},
   "outputs": [],
   "source": [
    "# THIS FILE INCLUDES ALL FUNCTIONL COMPONENTS INVOLVED IN \n",
    "# THE TOOL PRESENTED BY THE THESIS WITH SOME EXAMPLE OUTPUTS"
   ]
  },
  {
   "cell_type": "code",
   "execution_count": 1,
   "metadata": {},
   "outputs": [],
   "source": [
    "# Required imports\n",
    "import numpy as np # imports numpy\n",
    "import matplotlib.pyplot as plt # imports matplotlib\n",
    "from numba import jit # imports Numba\n",
    "from geometry import * # imports the geometry file\n",
    "from materials import * # imports the materials file\n",
    "from inputs import * # imports the inputs file"
   ]
  },
  {
   "cell_type": "code",
   "execution_count": 2,
   "metadata": {},
   "outputs": [],
   "source": [
    "# This function returns an r-grid (4D for anisotropy) given an input temperature grid. This input is needed\n",
    "# to accound for materials with temperature-dependent thermal conductivities. This is discusses\n",
    "# in section 2.2.1 of the thesis\n",
    "def alphas(T):\n",
    "    grid = np.zeros((gridx,gridy,gridz,3)) # establishes r-grid\n",
    "    \n",
    "    # updates r-values for carbon foam\n",
    "    grid[foamx[0]:foamx[1],foamy[0]:foamy[1],foamz[0]:foamz[1],0:3] = r_cfo\n",
    "    \n",
    "    # updates x, y, and, z conductivities for carbon fiber\n",
    "    grid[fiberx[0]:fiberx[1],fibery[0]:fibery[1],fiberz[0]:fiberz[1],0:1] = r_cfi[0]\n",
    "    grid[fiberx[0]:fiberx[1],fibery[0]:fibery[1],fiberz[0]:fiberz[1],1:2] = r_cfi[1]\n",
    "    grid[fiberx[0]:fiberx[1],fibery[0]:fibery[1],fiberz[0]:fiberz[1],2:3] = r_cfi[2]\n",
    "    \n",
    "    # uncomment the line below to replace the carbon fiber under the module with aluminum nitride\n",
    "    #grid[inx[0]:inx[1],iny[0]:iny[1],fiberz[0]:fiberz[1],0:3] = r_aln\n",
    "    \n",
    "    # updates r-values in input layers\n",
    "    for i in range(int(len(thicks))):\n",
    "        grid[inx[0]:inx[1],iny[0]:iny[1],inz[0]+sum(thicks[0:i]):inz[0]+sum(thicks[0:i+1]),0:3] = r_ins[i]    \n",
    "        \n",
    "    # updates r-values in glass\n",
    "    for i in range(glassx[0],glassx[1]):\n",
    "        for j in range(glassy[0],glassy[1]):\n",
    "            for k in range(glassz[0],glassz[1]):\n",
    "                grid[i][j][k] = r_glass_T(T[i][j][k])\n",
    "                \n",
    "    # updates r-values in silicon\n",
    "    for i in range(six[0],six[1]):\n",
    "        for j in range(siy[0],siy[1]):\n",
    "            for k in range(siz[0],siz[1]):\n",
    "                grid[i][j][k] = r_si_T(T[i][j][k])\n",
    "    return grid"
   ]
  },
  {
   "cell_type": "code",
   "execution_count": 3,
   "metadata": {},
   "outputs": [],
   "source": [
    "# This function takes in a temperature grid representing the temperature\n",
    "# of an entire assembly. It returns this temperature grid with all pixels in locations\n",
    "# representing the tube updated to reflect the tubing temperature\n",
    "# In other words, this function keeps the tubing temperatures constant at every iteration\n",
    "@jit(nopython=True) # update shape in rectangular prism form\n",
    "def Tupdatetube(T):\n",
    "    Tn = T\n",
    "    for l in list(range(ctb1x-tr, ctb1x+tr+1)) + list(range(ctb2x-tr, ctb2x+tr+1)): # loop over possible x-values of tube\n",
    "        for m in range(ctbz-tr,ctbz+tr+1): # loop over possible z-values of tube\n",
    "            if (min((l-ctb1x)**2,(l-ctb2x)**2)+(m-ctbz)**2 <= tr**2): # if the pixel is in either tube\n",
    "                Tn[l:l+1,0:T.shape[1]-1,m:m+1]=tt # set temperature to tube temperature   \n",
    "    return Tn"
   ]
  },
  {
   "cell_type": "code",
   "execution_count": 4,
   "metadata": {},
   "outputs": [],
   "source": [
    "# This function initializes the temperature grid for the entire assembly.\n",
    "# Is has no inputs as relevane parameters are in the imported files\n",
    "def Tinit(): # creates a grid with features of heat source and cold tube points    \n",
    "    grid = at*np.ones((gridx,gridy,gridz)) # establish grid    \n",
    "    grid = Tupdatetube(grid) # initialize tubing temperatures\n",
    "    return grid"
   ]
  },
  {
   "cell_type": "code",
   "execution_count": 5,
   "metadata": {},
   "outputs": [
    {
     "data": {
      "text/plain": [
       "<matplotlib.image.AxesImage at 0x24fea9ddc50>"
      ]
     },
     "execution_count": 5,
     "metadata": {},
     "output_type": "execute_result"
    },
    {
     "data": {
      "image/png": "[encoded data removed]",
      "text/plain": [
       "<Figure size 1440x144 with 1 Axes>"
      ]
     },
     "metadata": {},
     "output_type": "display_data"
    }
   ],
   "source": [
    "# shows an x-y cross section of the inital temperature grid (cooling tubes are in blue)\n",
    "TCS = Tinit()\n",
    "plt.figure(figsize = (20,2))\n",
    "plt.imshow(np.flipud(np.transpose(TCS[:,16,:])))"
   ]
  },
  {
   "cell_type": "code",
   "execution_count": 6,
   "metadata": {},
   "outputs": [
    {
     "data": {
      "text/plain": [
       "<matplotlib.image.AxesImage at 0x24febd049b0>"
      ]
     },
     "execution_count": 6,
     "metadata": {},
     "output_type": "execute_result"
    },
    {
     "data": {
      "image/png": "[encoded data removed]",
      "text/plain": [
       "<Figure size 1440x144 with 1 Axes>"
      ]
     },
     "metadata": {},
     "output_type": "display_data"
    }
   ],
   "source": [
    "# shows an x-y cross section of the inital r grid's x-conductivity (x-conductivity because of anisotropy)\n",
    "RCS = alphas(Tinit())\n",
    "plt.figure(figsize = (20,2))\n",
    "plt.imshow(np.flipud(np.transpose(RCS[:,16,:,0])))"
   ]
  },
  {
   "cell_type": "code",
   "execution_count": 7,
   "metadata": {},
   "outputs": [],
   "source": [
    "# This function takes in a T-grid (a 3D pixel-grid with a temperature for each pixel)\n",
    "# and an r-grid (a 3D pixel-grid with an r-value for each pixel) and a set of three\n",
    "# coordinates of a \"focus\" pixel\n",
    "# and returns the new temperature of the \"focus\" pixel after one time-step calculated \n",
    "# equation 2.16 of the thesis\n",
    "@jit(nopython=True)\n",
    "def wavg(T, r, i1, i2, i3):\n",
    "    return T[i1][i2][i3]+r[i1+1][i2][i3][0]*(T[i1+1][i2][i3]-T[i1][i2][i3])\\\n",
    "                        +r[i1-1][i2][i3][0]*(T[i1-1][i2][i3]-T[i1][i2][i3])\\\n",
    "                        +r[i1][i2+1][i3][1]*(T[i1][i2+1][i3]-T[i1][i2][i3])\\\n",
    "                        +r[i1][i2-1][i3][1]*(T[i1][i2-1][i3]-T[i1][i2][i3])\\\n",
    "                        +r[i1][i2][i3+1][2]*(T[i1][i2][i3+1]-T[i1][i2][i3])\\\n",
    "                        +r[i1][i2][i3-1][2]*(T[i1][i2][i3-1]-T[i1][i2][i3])"
   ]
  },
  {
   "cell_type": "code",
   "execution_count": 8,
   "metadata": {},
   "outputs": [],
   "source": [
    "# This function takes in a T-grid (a 3D pixel-grid with a temperature for each pixel)\n",
    "# and an r-grid (a 3D pixel-grid with an r-value for each pixel) (rectangular prisms) and three\n",
    "# pairs of coordinates establishing the limits of this priem along the three dimensions (in pixels)\n",
    "# of a rectangular prism. It also includes h parameter defined in euation 2.18 to indicate\n",
    "# heat added to every pixel for one time iteration.\n",
    "# The function returns the updated temperature proile of this\n",
    "# rectangular prism after one time-step\n",
    "@jit(nopython=True) # update shape in rectangular prism form\n",
    "def Tupdaterectp(T, r, x0, x1, y0, y1, z0, z1, p):\n",
    "    Tn = T\n",
    "    for i in range(x0,x1):\n",
    "        for j in range(y0,y1):\n",
    "            for k in range(z0,z1):\n",
    "                Tn[i][j][k] = wavg(T, r, i, j, k)+p  \n",
    "    return Tn"
   ]
  },
  {
   "cell_type": "code",
   "execution_count": 9,
   "metadata": {},
   "outputs": [],
   "source": [
    "# This function takes in a T-grid (a 3D pixel-grid with a temperature for each pixel)\n",
    "# and an r-grid (a 3D pixel-grid with an r-value for each pixel) representing the \n",
    "# entire simulated assembly. It also takes in a parameter pin representing the total input power\n",
    "# The function returns the updated temperature proile of the entire simulated assembly for one time step\n",
    "@jit(nopython=True)\n",
    "def Tupdate(T, r, pin): \n",
    "    Tn = T\n",
    "    Tn = Tupdaterectp(T, r, 1, T.shape[0]-1, 1, T.shape[1]-1, foamz0, foamz1, 0) # updates foam temperature\n",
    "    Tn = Tupdaterectp(T, r, 1, T.shape[0]-1, 1, T.shape[1]-1, fiberz0, fiberz1, 0) # updates fiber temperature\n",
    "    Tn = Tupdaterectp(T, r, inx0, inx1, iny0, iny1, inz0, inz1, 0) # update the input layer temperatures\n",
    "    Tn = Tupdaterectp(T, r, inx0, inx1, iny0, iny1, glassz0, glassz1, 0) # update the glass temperaures\n",
    "    Tn = Tupdaterectp(T, r, inx0, inx1, iny0, iny1-hsw, siz0, siz1, (1-mpsr)*pin*vmod/(vmod-vshunt)) # update the module temp.\n",
    "    Tn = Tupdaterectp(T, r, inx0, inx1, iny1-hsw, iny1, siz0, siz1, mpsr*pin*vmod/vshunt) # update the module shunt temp.\n",
    "    Tn = Tupdatetube(T) # keeps the tubes at a constant temperature\n",
    "    return Tn"
   ]
  },
  {
   "cell_type": "code",
   "execution_count": 10,
   "metadata": {},
   "outputs": [],
   "source": [
    "# this function displays a progress bar under simulations\n",
    "def progressBar(current, total, barLength = 20):\n",
    "    percent = float(current) * 100 / total\n",
    "    arrow   = '-' * int(percent/100 * barLength - 1) + '>'\n",
    "    spaces  = ' ' * (barLength - len(arrow))\n",
    "    print('Progress: [%s%s] %d %%' % (arrow, spaces, percent), end='\\r')"
   ]
  },
  {
   "cell_type": "code",
   "execution_count": 11,
   "metadata": {},
   "outputs": [],
   "source": [
    "# This function creates a plot of average silicon temperature over time\n",
    "# for some total input time 'stime' in seconds, some r-grid update frequency\n",
    "# time 'rupdatef' in seconds, and some total power to the module 'ptot'\n",
    "# it displays a progress bar by default\n",
    "def avgsitemptime(stime, rupdatef, ptot):\n",
    "    eadd = dt*ptot/(deltad**3*vmod)\n",
    "    pai = eadd/(dens_si*cp_si)\n",
    "    tlen = int(np.floor(stime/dt))\n",
    "    T = Tinit()\n",
    "    A = alphas(T)\n",
    "    timeseries = np.zeros(tlen)\n",
    "    for h in range(tlen):\n",
    "        timeseries[h]=np.mean(T[six[0]:six[1],siy[0]:siy[1],siz[0]:siz[1]])\n",
    "        T = Tupdate(T, A, pai)\n",
    "        if np.mod(h,np.floor(rupdatef/dt)) == 0:\n",
    "            A = alphas(T)\n",
    "        progressBar(h+1, tlen)    \n",
    "    x = np.linspace(0,tlen*dt,tlen)\n",
    "    plt.plot(x,timeseries)\n",
    "    plt.xlabel('Time (s)')\n",
    "    plt.ylabel('Temperature ($^\\circ$C)')\n",
    "    plt.show()"
   ]
  },
  {
   "cell_type": "code",
   "execution_count": 12,
   "metadata": {},
   "outputs": [
    {
     "name": "stdout",
     "output_type": "stream",
     "text": [
      "Progress: [------------------->] 100 %\r"
     ]
    },
    {
     "data": {
      "image/png": "[encoded data removed]",
      "text/plain": [
       "<Figure size 432x288 with 1 Axes>"
      ]
     },
     "metadata": {},
     "output_type": "display_data"
    }
   ],
   "source": [
    "avgsitemptime(1, 0.05, 0.2)"
   ]
  },
  {
   "cell_type": "code",
   "execution_count": 13,
   "metadata": {},
   "outputs": [],
   "source": [
    "# This function, for some total input time 'stime' in seconds, some r-grid update frequency\n",
    "# time 'rupdatef' in seconds, and some total power to the module 'ptot,' returns the\n",
    "# slope of the average silicon temperature plot over time at the final time\n",
    "# as discussed in Section 4.2 of the thesis, this is an important metric for performance evaluation\n",
    "# this includes a commented-out progress bar\n",
    "def final_diff(stime, rupdatef, ptot):\n",
    "    eadd = dt*ptot/(deltad**3*vmod)\n",
    "    pai = eadd/(dens_si*cp_si)\n",
    "    tlen = int(np.floor(stime/dt))\n",
    "    T = Tinit()\n",
    "    A = alphas(T)\n",
    "    timeseries = np.zeros(tlen)\n",
    "    for h in range(tlen):\n",
    "        timeseries[h]=np.mean(T[six[0]:six[1],siy[0]:siy[1],siz[0]:siz[1]])\n",
    "        T = Tupdate(T, A, pai)\n",
    "        if np.mod(h,np.floor(rupdatef/dt)) == 0:\n",
    "            A = alphas(T)\n",
    "        #progressBar(h+1, tlen)\n",
    "    return (timeseries[-1]-timeseries[-2])/dt"
   ]
  },
  {
   "cell_type": "code",
   "execution_count": 14,
   "metadata": {},
   "outputs": [],
   "source": [
    "# This function implements the bisection method used to find some the critical power\n",
    "# corresponding to a particular design as discussed in section 4.2 of the thesis\n",
    "# it takes in a known under-powered power level 'minp' (which can safely be zero)\n",
    "# and a known over-powered power level 'maxp' (which can be large or refined using \n",
    "# the above plotting function avgsitemptime() )\n",
    "# it also takes in total input time 'stime' in seconds for which simulations are run\n",
    "# and some r-grid update frequency time 'rupdatef' in seconds\n",
    "# it finally takes in 'nit' which is the number of iterations fot which it is run\n",
    "# For every iteration, the function prints out a closed set within-which it assesses the\n",
    "# root to be located. After the number of iteration is surpassed, it outputs its \n",
    "# best guess at the true root (the midpoitn between the last established range)\n",
    "# a progress bar can be shown for every iteration if uncommented from final_diff()\n",
    "def bisection_power_search(minp, maxp, stime, rupdatef, nit):\n",
    "    for i in range(nit):\n",
    "        initmid = np.mean([minp,maxp])\n",
    "        print([minp,maxp])\n",
    "        cand = np.round(final_diff(stime, rupdatef, initmid),5) \n",
    "        if cand < 0:\n",
    "            minp = initmid\n",
    "        elif cand > 0:\n",
    "            maxp = initmid\n",
    "        else:\n",
    "            break\n",
    "    return initmid"
   ]
  },
  {
   "cell_type": "code",
   "execution_count": 15,
   "metadata": {},
   "outputs": [
    {
     "name": "stdout",
     "output_type": "stream",
     "text": [
      "[0.18, 0.2]\n",
      "[0.19, 0.2]\n",
      "[0.19, 0.195]\n",
      "[0.19, 0.1925]\n",
      "[0.19125, 0.1925]\n",
      "[0.19187500000000002, 0.1925]\n",
      "[0.1921875, 0.1925]\n",
      "[0.19234375, 0.1925]\n"
     ]
    },
    {
     "data": {
      "text/plain": [
       "0.19242187500000002"
      ]
     },
     "execution_count": 15,
     "metadata": {},
     "output_type": "execute_result"
    }
   ],
   "source": [
    "bisection_power_search(0.18, 0.20, 0.2, 0.05, 8)"
   ]
  },
  {
   "cell_type": "code",
   "execution_count": null,
   "metadata": {},
   "outputs": [],
   "source": []
  }
 ],
 "metadata": {
  "kernelspec": {
   "display_name": "Python 3",
   "language": "python",
   "name": "python3"
  },
  "language_info": {
   "codemirror_mode": {
    "name": "ipython",
    "version": 3
   },
   "file_extension": ".py",
   "mimetype": "text/x-python",
   "name": "python",
   "nbconvert_exporter": "python",
   "pygments_lexer": "ipython3",
   "version": "3.6.4"
  }
 },
 "nbformat": 4,
 "nbformat_minor": 2
}
